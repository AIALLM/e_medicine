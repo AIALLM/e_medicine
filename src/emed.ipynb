{
 "cells": [
  {
   "cell_type": "code",
   "execution_count": 1,
   "metadata": {},
   "outputs": [],
   "source": [
    "from langchain_openai import ChatOpenAI\n",
    "import os\n",
    "import openai\n",
    "import getpass\n",
    "import tiktoken\n",
    "from langchain.chains import RetrievalQA\n",
    "from langchain.chat_models import ChatOpenAI\n",
    "from langchain.text_splitter import RecursiveCharacterTextSplitter\n",
    "from langchain.vectorstores import Chroma\n",
    "from langchain.embeddings import HuggingFaceEmbeddings\n"
   ]
  },
  {
   "cell_type": "code",
   "execution_count": 2,
   "metadata": {},
   "outputs": [],
   "source": [
    "os.environ[\"OPENAI_API_KEY\"] = getpass.getpass()"
   ]
  },
  {
   "cell_type": "code",
   "execution_count": 3,
   "metadata": {},
   "outputs": [],
   "source": [
    "tokenizer = tiktoken.get_encoding(\"cl100k_base\")\n",
    "\n",
    "def tiktoken_len(text):\n",
    "    tokens = tokenizer.encode(text)\n",
    "    return len(tokens)"
   ]
  },
  {
   "cell_type": "code",
   "execution_count": 4,
   "metadata": {},
   "outputs": [],
   "source": [
    "from langchain_community.document_loaders.csv_loader import CSVLoader\n",
    "\n",
    "loader = CSVLoader(file_path='e약은요.csv')\n",
    "data = loader.load()"
   ]
  },
  {
   "cell_type": "code",
   "execution_count": 26,
   "metadata": {},
   "outputs": [],
   "source": [
    "pages = loader.load_and_split()"
   ]
  },
  {
   "cell_type": "code",
   "execution_count": 6,
   "metadata": {},
   "outputs": [
    {
     "data": {
      "text/plain": [
       "'\\ufeff품목일련번호: 197900277\\n제품명: 게보린정(수출명:돌로린정)\\n업체명: 삼진제약(주)\\n주성분: 아세트아미노펜,카페인무수물,이소프로필안티피린\\n이 약의 효능은 무엇입니까?: 이 약은 두통, 치통, 발치(이를 뽑음)후 동통(통증), 인후(목구멍)통, 귀의 통증, 관절통, 신경통, 요(허리)통, 근육통, 견통(어깨통증), 타박통, 골절통, 염좌통(삔 통증), 월경통(생리통), 외상(상처)통의 진통과 오한(춥고 떨리는 증상), 발열시의 해열에 사용합니다.\\n이 약은 어떻게 사용합니까?: 성인은 1회 1정 1일 3회까지 공복시를 피해 복용합니다.\\n\\n복용간격은 4시간 이상으로 합니다.\\n\\n이 약은 원칙적으로 단기간 복용합니다.\\n이 약을 사용하기 전에 반드시 알아야 할 내용은 무엇입니가?: 매일 세잔 이상 정기적 음주자가 이 약 또는 다른 해열진통제를 복용할 때는 의사 또는 약사와 상의하십시오. 간손상을 일으킬 수 있습니다.\\n\\n아세트아미노펜으로 일일 최대 용량(4,000 mg)을 초과하여 복용하지 마십시오. 간손상을 일으킬 수 있습니다. 아세트아미노펜을 포함하는 다른 제품과 함께 복용하지 마십시오.\\n이 약의 사용상 주의사항은 무엇입니까?: 이 약에 과민증 환자,\\xa0다른 해열진통제(비스테로이드성 소염제), 감기약 복용시 천식발작 유발 또는 그 경험자,\\xa0글루코스-6-인산 탈수소효소결핍증, 급성 간헐성(시간 간격을 두고 되풀이하여) 포르피린증, 과립백혈구감소증, 중증 간장애, 중증 신장애, 출혈 소인, 15세 미만의 소아, 소화성궤양, 심한 혈액 이상, 심한 심장기능저하,\\xa0바르비탈계 약물, 삼환계 항우울제, 알코올을 복용한 환자는 이 약을\\xa0복용하지 마십시오.\\n\\n이 약을 복용하기 전에 수두 또는 인플루엔자에 감염되어 있거나 또는 의심되는 15세 이상의 청소년, 갑상샘질환, 당뇨병, 고혈압, 몸이 약한 사람, 고열, 고령자, 임부 또는 임신하고 있을 가능성이 있는 여성, 수유부, 속쓰림, 위부불쾌감, 위통과 같은 위장문제가 지속 혹은 재발되는 사람,\\xa0간장애,\\xa0신장(콩팥)장애,\\xa0소화성궤양,\\xa0혈액이상,\\xa0출혈경향이 있는 환자,\\xa0심장기능이상,\\xa0기관지천식 환자는 의사 또는 약사와 상의하십시오.\\n이 약을 사용하는 동안 주의해야 할 약 또는 음식은 무엇입니까?: 바르비탈계 약물, 삼환계 항우울제, 다른 소염(항염)진통제, 다른 해열진통제, 아세트아미노펜을 포함하는 다른 제품, 알코올과 함께\\xa0이 약을 복용하지 마십시오.\\n\\n이 약을 복용하기 전에 와파린, 리튬, 티아지드계 이뇨제를 복용한 환자는 의사 또는\\xa0약사와 상의하십시오.\\n이 약은 어떤 이상반응이 나타날 수 있습니까?: 쇽 증상(호흡곤란, 온몸이 붉어짐, 혈관부기, 두드러기 등), 천식발작, 혈소판 감소, 과립구감소, 용혈성빈혈, 메트헤모글로빈혈증, 혈소판기능 저하(출혈시간 연장), 청색증, 구역, 구토, 식욕부진, 위장출혈, 소화성궤양, 천공(뚫림), 발진, 피부점막안증후군(스티븐스-존슨증후군), 독성표피괴사용해(리엘증후군: 고열을 수반하며 발진, 발적 충혈되어 붉어짐, 화상모양 수포 등의 격렬한 증상이 전신피부, 입 및 눈의 점막에 나타난 경우), 전신의 나른함, 황달, 간질성폐렴(기침, 숨이참, 호흡곤란, 발열), 간기능이상, 고정발진 등이 나타나는 경우 복용을 즉각 중지하고 의사 또는 약사와 상의하십시오.\\n이 약은 어떻게 보관해야 합니까?: 습기와 빛을 피해 실온에서 보관하십시오.\\n\\n어린이의 손이 닿지 않는 곳에 보관하십시오.\\n공개일자: 2020-12-24\\n수정일자: 2024-01-16\\n사업자번호: 1248531621'"
      ]
     },
     "execution_count": 6,
     "metadata": {},
     "output_type": "execute_result"
    }
   ],
   "source": [
    "pages[0].page_content"
   ]
  },
  {
   "cell_type": "code",
   "execution_count": 27,
   "metadata": {},
   "outputs": [
    {
     "name": "stdout",
     "output_type": "stream",
     "text": [
      "data lenght :  4650\n",
      "data lenght :  4650\n"
     ]
    }
   ],
   "source": [
    "print(\"data lenght : \",len(data))\n",
    "print(\"data lenght : \",len(pages))"
   ]
  },
  {
   "cell_type": "code",
   "execution_count": 23,
   "metadata": {},
   "outputs": [
    {
     "data": {
      "text/plain": [
       "Document(page_content='\\ufeff품목일련번호: 197900277\\n제품명: 게보린정(수출명:돌로린정)\\n업체명: 삼진제약(주)\\n주성분: 아세트아미노펜,카페인무수물,이소프로필안티피린\\n이 약의 효능은 무엇입니까?: 이 약은 두통, 치통, 발치(이를 뽑음)후 동통(통증), 인후(목구멍)통, 귀의 통증, 관절통, 신경통, 요(허리)통, 근육통, 견통(어깨통증), 타박통, 골절통, 염좌통(삔 통증), 월경통(생리통), 외상(상처)통의 진통과 오한(춥고 떨리는 증상), 발열시의 해열에 사용합니다.\\n이 약은 어떻게 사용합니까?: 성인은 1회 1정 1일 3회까지 공복시를 피해 복용합니다.\\n\\n복용간격은 4시간 이상으로 합니다.\\n\\n이 약은 원칙적으로 단기간 복용합니다.\\n이 약을 사용하기 전에 반드시 알아야 할 내용은 무엇입니가?: 매일 세잔 이상 정기적 음주자가 이 약 또는 다른 해열진통제를 복용할 때는 의사 또는 약사와 상의하십시오. 간손상을 일으킬 수 있습니다.\\n\\n아세트아미노펜으로 일일 최대 용량(4,000 mg)을 초과하여 복용하지 마십시오. 간손상을 일으킬 수 있습니다. 아세트아미노펜을 포함하는 다른 제품과 함께 복용하지 마십시오.\\n이 약의 사용상 주의사항은 무엇입니까?: 이 약에 과민증 환자,\\xa0다른 해열진통제(비스테로이드성 소염제), 감기약 복용시 천식발작 유발 또는 그 경험자,\\xa0글루코스-6-인산 탈수소효소결핍증, 급성 간헐성(시간 간격을 두고 되풀이하여) 포르피린증, 과립백혈구감소증, 중증 간장애, 중증 신장애, 출혈 소인, 15세 미만의 소아, 소화성궤양, 심한 혈액 이상, 심한 심장기능저하,\\xa0바르비탈계 약물, 삼환계 항우울제, 알코올을 복용한 환자는 이 약을\\xa0복용하지 마십시오.\\n\\n이 약을 복용하기 전에 수두 또는 인플루엔자에 감염되어 있거나 또는 의심되는 15세 이상의 청소년, 갑상샘질환, 당뇨병, 고혈압, 몸이 약한 사람, 고열, 고령자, 임부 또는 임신하고 있을 가능성이 있는 여성, 수유부, 속쓰림, 위부불쾌감, 위통과 같은 위장문제가 지속 혹은 재발되는 사람,\\xa0간장애,\\xa0신장(콩팥)장애,\\xa0소화성궤양,\\xa0혈액이상,\\xa0출혈경향이 있는 환자,\\xa0심장기능이상,\\xa0기관지천식 환자는 의사 또는 약사와 상의하십시오.\\n이 약을 사용하는 동안 주의해야 할 약 또는 음식은 무엇입니까?: 바르비탈계 약물, 삼환계 항우울제, 다른 소염(항염)진통제, 다른 해열진통제, 아세트아미노펜을 포함하는 다른 제품, 알코올과 함께\\xa0이 약을 복용하지 마십시오.\\n\\n이 약을 복용하기 전에 와파린, 리튬, 티아지드계 이뇨제를 복용한 환자는 의사 또는\\xa0약사와 상의하십시오.\\n이 약은 어떤 이상반응이 나타날 수 있습니까?: 쇽 증상(호흡곤란, 온몸이 붉어짐, 혈관부기, 두드러기 등), 천식발작, 혈소판 감소, 과립구감소, 용혈성빈혈, 메트헤모글로빈혈증, 혈소판기능 저하(출혈시간 연장), 청색증, 구역, 구토, 식욕부진, 위장출혈, 소화성궤양, 천공(뚫림), 발진, 피부점막안증후군(스티븐스-존슨증후군), 독성표피괴사용해(리엘증후군: 고열을 수반하며 발진, 발적 충혈되어 붉어짐, 화상모양 수포 등의 격렬한 증상이 전신피부, 입 및 눈의 점막에 나타난 경우), 전신의 나른함, 황달, 간질성폐렴(기침, 숨이참, 호흡곤란, 발열), 간기능이상, 고정발진 등이 나타나는 경우 복용을 즉각 중지하고 의사 또는 약사와 상의하십시오.\\n이 약은 어떻게 보관해야 합니까?: 습기와 빛을 피해 실온에서 보관하십시오.\\n\\n어린이의 손이 닿지 않는 곳에 보관하십시오.\\n공개일자: 2020-12-24\\n수정일자: 2024-01-16\\n사업자번호: 1248531621', metadata={'source': 'e약은요.csv', 'row': 0})"
      ]
     },
     "execution_count": 23,
     "metadata": {},
     "output_type": "execute_result"
    }
   ],
   "source": [
    "pages[0]"
   ]
  },
  {
   "cell_type": "code",
   "execution_count": 7,
   "metadata": {},
   "outputs": [],
   "source": [
    "text_splitter = RecursiveCharacterTextSplitter(chunk_size = 1000, chunk_overlap = 200, length_function=tiktoken_len)\n",
    "texts = text_splitter.split_documents(pages)"
   ]
  },
  {
   "cell_type": "code",
   "execution_count": 8,
   "metadata": {},
   "outputs": [
    {
     "name": "stderr",
     "output_type": "stream",
     "text": [
      "c:\\Users\\Admin\\anaconda3\\envs\\sba\\lib\\site-packages\\torch\\_utils.py:776: UserWarning: TypedStorage is deprecated. It will be removed in the future and UntypedStorage will be the only storage class. This should only matter to you if you are using storages directly.  To access UntypedStorage directly, use tensor.untyped_storage() instead of tensor.storage()\n",
      "  return self.fget.__get__(instance, owner)()\n"
     ]
    }
   ],
   "source": [
    "model_name = \"jhgan/ko-sbert-nli\"\n",
    "model_kwargs = {'device': 'cuda'}\n",
    "encode_kwargs = {'normalize_embeddings': True}\n",
    "hf = HuggingFaceEmbeddings(\n",
    "    model_name=model_name,\n",
    "    model_kwargs=model_kwargs,\n",
    "    encode_kwargs=encode_kwargs\n",
    ")"
   ]
  },
  {
   "cell_type": "code",
   "execution_count": 9,
   "metadata": {},
   "outputs": [],
   "source": [
    "#save to disk\n",
    "emed_db = Chroma.from_documents(texts, hf,persist_directory=\"e약은요db\")"
   ]
  },
  {
   "cell_type": "code",
   "execution_count": null,
   "metadata": {},
   "outputs": [],
   "source": [
    "#벡터db의 데이터가 in-memory가 아니라 persistent storage인 disk에 저장되게 선언\n",
    "emed_db.persist()\n",
    "emed_db = None"
   ]
  },
  {
   "cell_type": "code",
   "execution_count": 10,
   "metadata": {},
   "outputs": [],
   "source": [
    "# load from disk\n",
    "emed_db = Chroma(persist_directory=\"e약은요db\",embedding_function=hf)"
   ]
  },
  {
   "cell_type": "code",
   "execution_count": 11,
   "metadata": {},
   "outputs": [
    {
     "name": "stderr",
     "output_type": "stream",
     "text": [
      "c:\\Users\\Admin\\anaconda3\\envs\\sba\\lib\\site-packages\\langchain_core\\_api\\deprecation.py:119: LangChainDeprecationWarning: The class `ChatOpenAI` was deprecated in LangChain 0.0.10 and will be removed in 0.2.0. An updated version of the class exists in the langchain-openai package and should be used instead. To use it run `pip install -U langchain-openai` and import as `from langchain_openai import ChatOpenAI`.\n",
      "  warn_deprecated(\n"
     ]
    }
   ],
   "source": [
    "from langchain_core.prompts import ChatPromptTemplate, MessagesPlaceholder\n",
    "from langchain_core.runnables import RunnablePassthrough\n",
    "from langchain_core.output_parsers import StrOutputParser\n",
    "from langchain.chains import create_history_aware_retriever, create_retrieval_chain\n",
    "from langchain.chains.combine_documents import create_stuff_documents_chain\n",
    "from langchain_core.runnables.history import RunnableWithMessageHistory\n",
    "from langchain_community.chat_message_histories import ChatMessageHistory\n",
    "from langchain_core.chat_history import BaseChatMessageHistory\n",
    "\n",
    "openai = ChatOpenAI(model = \"gpt-3.5-turbo\",temperature=0)\n",
    "\n",
    "retriever = emed_db.as_retriever(search_type=\"similarity\", search_kwargs={'k':5})#search_type = \"mmr\",\n",
    "\n",
    "def format_docs(docs):\n",
    "    return \"\\n\\n\".join([d.page_content for d in docs])\n",
    "\n",
    "contextualize_q_system_prompt = \"\"\"Given a chat history and the latest user question \\\n",
    "which might reference context in the chat history, formulate a standalone question \\\n",
    "which can be understood without the chat history. Do NOT answer the question, \\\n",
    "just reformulate it if needed and otherwise return it as is.\"\"\"\n",
    "\n",
    "contextualize_q_prompt = ChatPromptTemplate.from_messages(\n",
    "    [\n",
    "        (\"system\", contextualize_q_system_prompt),\n",
    "        MessagesPlaceholder(\"chat_history\"),\n",
    "        (\"human\",\"{input}\"),\n",
    "    ]\n",
    ")\n",
    "\n",
    "history_aware_retriever = create_history_aware_retriever(\n",
    "    openai, retriever, contextualize_q_prompt\n",
    ")\n",
    "\n",
    "#답변 생성\n",
    "qa_system_prompt = \"\"\"You are an assistant for question-answering tasks. \\\n",
    "ONLY USE the following pieces of retrieved context to answer the question. \\\n",
    "If you don't know the answer, just say that you don't know. \\\n",
    "Use three sentences maximum and keep the answer concise.\\\n",
    "\n",
    "{context}\"\"\"\n",
    "\n",
    "qa_prompt = ChatPromptTemplate.from_messages(\n",
    "    [\n",
    "        (\"system\", qa_system_prompt),\n",
    "        MessagesPlaceholder(\"chat_history\"),\n",
    "        (\"human\", \"{input}\"),\n",
    "    ]\n",
    ")\n",
    "question_answer_chain = create_stuff_documents_chain(openai, qa_prompt)\n",
    "\n",
    "rag_chain = create_retrieval_chain(history_aware_retriever,question_answer_chain)\n",
    "\n",
    "# chat history 관리\n",
    "store = {}\n",
    "\n",
    "def get_session_history(session_id : str) -> BaseChatMessageHistory:\n",
    "    if session_id not in store:\n",
    "        store[session_id] = ChatMessageHistory()\n",
    "    return store[session_id]\n",
    "\n",
    "conversational_rag_chain = RunnableWithMessageHistory(\n",
    "    rag_chain,\n",
    "    get_session_history,\n",
    "    input_messages_key= \"input\",\n",
    "    history_messages_key= \"chat_history\",\n",
    "    output_messages_key= \"answer\",\n",
    ")\n"
   ]
  },
  {
   "cell_type": "code",
   "execution_count": 19,
   "metadata": {},
   "outputs": [
    {
     "data": {
      "text/plain": [
       "'게보린정은 통증 완화와 열 해소를 위해 사용되는 해열진통제입니다. 주로 두통, 치통, 근육통, 관절통, 생리통 등 다양한 통증을 완화하는 데 사용됩니다.'"
      ]
     },
     "execution_count": 19,
     "metadata": {},
     "output_type": "execute_result"
    }
   ],
   "source": [
    "id = \"0\"\n",
    "query1 = \"게보린정 효능 알려줘\"\n",
    "conversational_rag_chain.invoke(\n",
    "    {\"input\": query1},\n",
    "    config={\n",
    "        \"configurable\": {\"session_id\":id}\n",
    "    },\n",
    ")[\"answer\"]"
   ]
  },
  {
   "cell_type": "code",
   "execution_count": 20,
   "metadata": {},
   "outputs": [
    {
     "data": {
      "text/plain": [
       "'게보린정을 복용하기 전에 신장이나 간장애, 노인, 간질 환자, 발작 위험성이 있는 환자, 소변 고임의 선행요인이 있는 환자는 의사나 약사와 상의해야 합니다. 또한 게보린정을 복용하는 동안 테오필린, 리토나비어, 과량의 알코올과 함께 복용하지 말아야 합니다.'"
      ]
     },
     "execution_count": 20,
     "metadata": {},
     "output_type": "execute_result"
    }
   ],
   "source": [
    "query2 = \"그럼 그 약 주의사항에 대해서 알려줘\"\n",
    "\n",
    "conversational_rag_chain.invoke(\n",
    "    {\"input\": query2},\n",
    "    config = {\n",
    "        \"configurable\": {\"session_id\": id}\n",
    "    },\n",
    ")[\"answer\"]"
   ]
  },
  {
   "cell_type": "code",
   "execution_count": 28,
   "metadata": {},
   "outputs": [
    {
     "data": {
      "text/plain": [
       "'게보린정을 복용하기 전에 신장이나 간장애, 노인, 간질 환자, 발작 위험성이 있는 환자, 소변 고임의 선행요인이 있는 환자는 의사나 약사와 상의해야 합니다. 또한 게보린정을 복용하는 동안 테오필린, 리토나비어, 과량의 알코올과 함께 복용하지 말아야 합니다.'"
      ]
     },
     "execution_count": 28,
     "metadata": {},
     "output_type": "execute_result"
    }
   ],
   "source": [
    "query3 = \"이 약은 어떤 이상반응이 나타날 수 있습니까?\"\n",
    "conversational_rag_chain.invoke(\n",
    "    {\"input\": query2},\n",
    "    config = {\n",
    "        \"configurable\": {\"session_id\": id}\n",
    "    },\n",
    ")[\"answer\"]"
   ]
  },
  {
   "cell_type": "code",
   "execution_count": null,
   "metadata": {},
   "outputs": [],
   "source": []
  }
 ],
 "metadata": {
  "kernelspec": {
   "display_name": "gptapi",
   "language": "python",
   "name": "python3"
  },
  "language_info": {
   "codemirror_mode": {
    "name": "ipython",
    "version": 3
   },
   "file_extension": ".py",
   "mimetype": "text/x-python",
   "name": "python",
   "nbconvert_exporter": "python",
   "pygments_lexer": "ipython3",
   "version": "3.10.9"
  },
  "orig_nbformat": 4
 },
 "nbformat": 4,
 "nbformat_minor": 2
}
