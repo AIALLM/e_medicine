{
 "cells": [
  {
   "cell_type": "code",
   "execution_count": 26,
   "metadata": {},
   "outputs": [],
   "source": [
    "import pandas as pd\n"
   ]
  },
  {
   "cell_type": "code",
   "execution_count": 27,
   "metadata": {},
   "outputs": [
    {
     "data": {
      "text/html": [
       "<div>\n",
       "<style scoped>\n",
       "    .dataframe tbody tr th:only-of-type {\n",
       "        vertical-align: middle;\n",
       "    }\n",
       "\n",
       "    .dataframe tbody tr th {\n",
       "        vertical-align: top;\n",
       "    }\n",
       "\n",
       "    .dataframe thead th {\n",
       "        text-align: right;\n",
       "    }\n",
       "</style>\n",
       "<table border=\"1\" class=\"dataframe\">\n",
       "  <thead>\n",
       "    <tr style=\"text-align: right;\">\n",
       "      <th></th>\n",
       "      <th>제품명</th>\n",
       "      <th>업체명</th>\n",
       "      <th>주성분</th>\n",
       "      <th>이 약의 효능은 무엇입니까?</th>\n",
       "      <th>이 약은 어떻게 사용합니까?</th>\n",
       "      <th>이 약을 사용하기 전에 반드시 알아야 할 내용은 무엇입니까?</th>\n",
       "      <th>이 약의 사용상 주의사항은 무엇입니까?</th>\n",
       "      <th>이 약을 사용하는 동안 주의해야 할 약 또는 음식은 무엇입니까?</th>\n",
       "      <th>이 약은 어떤 이상반응이 나타날 수 있습니까?</th>\n",
       "      <th>이 약은 어떻게 보관해야 합니까?</th>\n",
       "    </tr>\n",
       "  </thead>\n",
       "  <tbody>\n",
       "    <tr>\n",
       "      <th>0</th>\n",
       "      <td>닥터베아제정</td>\n",
       "      <td>(주)대웅제약</td>\n",
       "      <td>디아스타제·프로테아제·셀룰라제,판셀라제,크리아제-PEG,디아스타제·프로테아제100,...</td>\n",
       "      <td>이 약은 소화불량, 식욕감퇴(식욕부진), 과식, 체함, 소화촉진, 소화불량으로 인한...</td>\n",
       "      <td>성인 1회 1정을 1일 3회 식후에 복용합니다.</td>\n",
       "      <td>NaN</td>\n",
       "      <td>만 7세 이하의 소아는 이 약을 복용하지 마십시오.이 약을 복용하기 전에 알레르기 ...</td>\n",
       "      <td>NaN</td>\n",
       "      <td>NaN</td>\n",
       "      <td>습기와 빛을 피해 실온에서 보관하십시오.어린이의 손이 닿지 않는 곳에 보관하십시오.</td>\n",
       "    </tr>\n",
       "    <tr>\n",
       "      <th>1</th>\n",
       "      <td>맥시부펜시럽(덱시부프로펜)</td>\n",
       "      <td>한미약품(주)</td>\n",
       "      <td>덱시부프로펜</td>\n",
       "      <td>이 약은 급성 상기도 감염으로 인한 발열 시 해열에 사용합니다.</td>\n",
       "      <td>생후 6개월 이상의 소아는 1회 0.4~0.6 mL/kg(5~7 mg/kg), 4~...</td>\n",
       "      <td>NaN</td>\n",
       "      <td>이 약에 과민증 환자, 소화성궤양, 심한 혈액이상, 심한 간장애, 심한 신장애, 심...</td>\n",
       "      <td>다른 비스테로이드성 소염진통제, 아스피린, 고용량의 메토트렉세이트와 함께 사용하지 ...</td>\n",
       "      <td>드물게 쇽(호흡곤란, 혈압저하 등), 재생불량성빈혈, 용혈성빈혈, 무과립구증, 과립...</td>\n",
       "      <td>빛을 피해 상온(15~25 ℃)에서 보관하십시오.어린이의 손이 닿지 않는 곳에 보관...</td>\n",
       "    </tr>\n",
       "    <tr>\n",
       "      <th>2</th>\n",
       "      <td>뮤테란과립200밀리그램(아세틸시스테인)</td>\n",
       "      <td>한화제약(주)</td>\n",
       "      <td>아세틸시스테인</td>\n",
       "      <td>이 약은 급ㆍ만성기관지염, 기관지천식, 후두염, 부비동염, 낭성섬유증의 질환에서 객...</td>\n",
       "      <td>급성질환에 성인은 1회 1포(200 mg)씩, 1일 3회, 6~14세는 1회 1포(...</td>\n",
       "      <td>이 약은 체내에서 페닐알라닌으로 대사되는 아스파탐이 함유되어 페닐알라닌의 섭취를 규...</td>\n",
       "      <td>이 약에 과민증 환자, 위•십이지장궤양, 2세 미만 영아는 이 약을 복용하지 마십시...</td>\n",
       "      <td>경구용 항생물질(아목시실린, 세푸록심, 독시사이클린, 에리트로마이신, 티암페니콜)과...</td>\n",
       "      <td>드물게 구역, 구토, 구내염, 가슴쓰림, 설사, 두드러기, 가려움, 발진, 두통, ...</td>\n",
       "      <td>실온에서 보관하십시오.어린이의 손이 닿지 않는 곳에 보관하십시오.</td>\n",
       "    </tr>\n",
       "    <tr>\n",
       "      <th>3</th>\n",
       "      <td>뮤테란캡슐200밀리그램(아세틸시스테인)</td>\n",
       "      <td>한화제약(주)</td>\n",
       "      <td>아세틸시스테인</td>\n",
       "      <td>이 약은 급ㆍ만성기관지염, 기관지천식, 후두염, 부비동염, 낭성섬유증의 질환에서 객...</td>\n",
       "      <td>급성질환에 성인은 1회 1캡슐(200 mg)씩, 1일 3회, 6~14세는 1회 1캡...</td>\n",
       "      <td>NaN</td>\n",
       "      <td>이 약에 과민증 환자, 위•십이지장궤양, 2세 미만 영아, 갈락토오스 불내성, La...</td>\n",
       "      <td>경구용 항생제(아목시실린, 세푸록심, 독시사이클린, 에리트로마이신, 티암페니콜)와 ...</td>\n",
       "      <td>드물게 구역, 구토, 구내염, 가슴쓰림, 설사, 두드러기, 가려움, 발진, 두통, ...</td>\n",
       "      <td>실온에서 보관하십시오.어린이의 손이 닿지 않는 곳에 보관하십시오.</td>\n",
       "    </tr>\n",
       "    <tr>\n",
       "      <th>4</th>\n",
       "      <td>베아제정</td>\n",
       "      <td>(주)대웅제약</td>\n",
       "      <td>디아스타제·프로테아제·셀룰라제,리파제,판프로신,판셀라제,판크레아틴장용과립,우르소데옥...</td>\n",
       "      <td>이 약은 소화불량, 식욕감퇴(식욕부진), 과식, 체함, 소화촉진, 소화불량으로 인한...</td>\n",
       "      <td>성인 1회 1정 1일 3회 식후에 복용합니다.\\n</td>\n",
       "      <td>NaN</td>\n",
       "      <td>만 7세 이하의 어린이는 이 약을 복용하지 마십시오.\\n\\n이 약을 복용하기 전에 ...</td>\n",
       "      <td>이 약을 복용하기 전에 다른 약물을 복용하고 있는 경우 의사 또는 약사와 상의하십시...</td>\n",
       "      <td>NaN</td>\n",
       "      <td>습기와 빛을 피해 서늘한 곳에 보관하십시오.\\n\\n어린이의 손이 닿지 않는 곳에 보...</td>\n",
       "    </tr>\n",
       "  </tbody>\n",
       "</table>\n",
       "</div>"
      ],
      "text/plain": [
       "                     제품명      업체명  \\\n",
       "0                 닥터베아제정  (주)대웅제약   \n",
       "1         맥시부펜시럽(덱시부프로펜)  한미약품(주)   \n",
       "2  뮤테란과립200밀리그램(아세틸시스테인)  한화제약(주)   \n",
       "3  뮤테란캡슐200밀리그램(아세틸시스테인)  한화제약(주)   \n",
       "4                   베아제정  (주)대웅제약   \n",
       "\n",
       "                                                 주성분  \\\n",
       "0  디아스타제·프로테아제·셀룰라제,판셀라제,크리아제-PEG,디아스타제·프로테아제100,...   \n",
       "1                                             덱시부프로펜   \n",
       "2                                            아세틸시스테인   \n",
       "3                                            아세틸시스테인   \n",
       "4  디아스타제·프로테아제·셀룰라제,리파제,판프로신,판셀라제,판크레아틴장용과립,우르소데옥...   \n",
       "\n",
       "                                     이 약의 효능은 무엇입니까?  \\\n",
       "0  이 약은 소화불량, 식욕감퇴(식욕부진), 과식, 체함, 소화촉진, 소화불량으로 인한...   \n",
       "1                이 약은 급성 상기도 감염으로 인한 발열 시 해열에 사용합니다.   \n",
       "2  이 약은 급ㆍ만성기관지염, 기관지천식, 후두염, 부비동염, 낭성섬유증의 질환에서 객...   \n",
       "3  이 약은 급ㆍ만성기관지염, 기관지천식, 후두염, 부비동염, 낭성섬유증의 질환에서 객...   \n",
       "4  이 약은 소화불량, 식욕감퇴(식욕부진), 과식, 체함, 소화촉진, 소화불량으로 인한...   \n",
       "\n",
       "                                     이 약은 어떻게 사용합니까?  \\\n",
       "0                         성인 1회 1정을 1일 3회 식후에 복용합니다.   \n",
       "1  생후 6개월 이상의 소아는 1회 0.4~0.6 mL/kg(5~7 mg/kg), 4~...   \n",
       "2  급성질환에 성인은 1회 1포(200 mg)씩, 1일 3회, 6~14세는 1회 1포(...   \n",
       "3  급성질환에 성인은 1회 1캡슐(200 mg)씩, 1일 3회, 6~14세는 1회 1캡...   \n",
       "4                        성인 1회 1정 1일 3회 식후에 복용합니다.\\n   \n",
       "\n",
       "                   이 약을 사용하기 전에 반드시 알아야 할 내용은 무엇입니까?  \\\n",
       "0                                                NaN   \n",
       "1                                                NaN   \n",
       "2  이 약은 체내에서 페닐알라닌으로 대사되는 아스파탐이 함유되어 페닐알라닌의 섭취를 규...   \n",
       "3                                                NaN   \n",
       "4                                                NaN   \n",
       "\n",
       "                               이 약의 사용상 주의사항은 무엇입니까?  \\\n",
       "0  만 7세 이하의 소아는 이 약을 복용하지 마십시오.이 약을 복용하기 전에 알레르기 ...   \n",
       "1  이 약에 과민증 환자, 소화성궤양, 심한 혈액이상, 심한 간장애, 심한 신장애, 심...   \n",
       "2  이 약에 과민증 환자, 위•십이지장궤양, 2세 미만 영아는 이 약을 복용하지 마십시...   \n",
       "3  이 약에 과민증 환자, 위•십이지장궤양, 2세 미만 영아, 갈락토오스 불내성, La...   \n",
       "4  만 7세 이하의 어린이는 이 약을 복용하지 마십시오.\\n\\n이 약을 복용하기 전에 ...   \n",
       "\n",
       "                 이 약을 사용하는 동안 주의해야 할 약 또는 음식은 무엇입니까?  \\\n",
       "0                                                NaN   \n",
       "1  다른 비스테로이드성 소염진통제, 아스피린, 고용량의 메토트렉세이트와 함께 사용하지 ...   \n",
       "2  경구용 항생물질(아목시실린, 세푸록심, 독시사이클린, 에리트로마이신, 티암페니콜)과...   \n",
       "3  경구용 항생제(아목시실린, 세푸록심, 독시사이클린, 에리트로마이신, 티암페니콜)와 ...   \n",
       "4  이 약을 복용하기 전에 다른 약물을 복용하고 있는 경우 의사 또는 약사와 상의하십시...   \n",
       "\n",
       "                           이 약은 어떤 이상반응이 나타날 수 있습니까?  \\\n",
       "0                                                NaN   \n",
       "1  드물게 쇽(호흡곤란, 혈압저하 등), 재생불량성빈혈, 용혈성빈혈, 무과립구증, 과립...   \n",
       "2  드물게 구역, 구토, 구내염, 가슴쓰림, 설사, 두드러기, 가려움, 발진, 두통, ...   \n",
       "3  드물게 구역, 구토, 구내염, 가슴쓰림, 설사, 두드러기, 가려움, 발진, 두통, ...   \n",
       "4                                                NaN   \n",
       "\n",
       "                                  이 약은 어떻게 보관해야 합니까?  \n",
       "0     습기와 빛을 피해 실온에서 보관하십시오.어린이의 손이 닿지 않는 곳에 보관하십시오.  \n",
       "1  빛을 피해 상온(15~25 ℃)에서 보관하십시오.어린이의 손이 닿지 않는 곳에 보관...  \n",
       "2               실온에서 보관하십시오.어린이의 손이 닿지 않는 곳에 보관하십시오.  \n",
       "3               실온에서 보관하십시오.어린이의 손이 닿지 않는 곳에 보관하십시오.  \n",
       "4  습기와 빛을 피해 서늘한 곳에 보관하십시오.\\n\\n어린이의 손이 닿지 않는 곳에 보...  "
      ]
     },
     "execution_count": 27,
     "metadata": {},
     "output_type": "execute_result"
    }
   ],
   "source": [
    "test_data = pd.read_excel(\"e약은요_test_question.xlsx\")\n",
    "test_data.head()"
   ]
  },
  {
   "cell_type": "code",
   "execution_count": 28,
   "metadata": {},
   "outputs": [
    {
     "data": {
      "text/plain": [
       "100"
      ]
     },
     "execution_count": 28,
     "metadata": {},
     "output_type": "execute_result"
    }
   ],
   "source": [
    "len(test_data)"
   ]
  },
  {
   "cell_type": "code",
   "execution_count": 29,
   "metadata": {},
   "outputs": [
    {
     "data": {
      "text/plain": [
       "['제품명',\n",
       " '업체명',\n",
       " '주성분',\n",
       " '이 약의 효능은 무엇입니까?',\n",
       " '이 약은 어떻게 사용합니까?',\n",
       " '이 약을 사용하기 전에 반드시 알아야 할 내용은 무엇입니까?',\n",
       " '이 약의 사용상 주의사항은 무엇입니까?',\n",
       " '이 약을 사용하는 동안 주의해야 할 약 또는 음식은 무엇입니까?',\n",
       " '이 약은 어떤 이상반응이 나타날 수 있습니까?',\n",
       " '이 약은 어떻게 보관해야 합니까?']"
      ]
     },
     "execution_count": 29,
     "metadata": {},
     "output_type": "execute_result"
    }
   ],
   "source": [
    "columns = list(test_data.columns)\n",
    "columns"
   ]
  },
  {
   "cell_type": "code",
   "execution_count": 7,
   "metadata": {},
   "outputs": [
    {
     "data": {
      "text/plain": [
       "['이 약의 효능은 무엇입니까?',\n",
       " '이 약은 어떻게 사용합니까?',\n",
       " '이 약을 사용하기 전에 반드시 알아야 할 내용은 무엇입니까?',\n",
       " '이 약의 사용상 주의사항은 무엇입니까?',\n",
       " '이 약을 사용하는 동안 주의해야 할 약 또는 음식은 무엇입니까?',\n",
       " '이 약은 어떤 이상반응이 나타날 수 있습니까?',\n",
       " '이 약은 어떻게 보관해야 합니까?']"
      ]
     },
     "execution_count": 7,
     "metadata": {},
     "output_type": "execute_result"
    }
   ],
   "source": [
    "question_type = columns[3:]\n",
    "question_type"
   ]
  },
  {
   "cell_type": "code",
   "execution_count": 30,
   "metadata": {},
   "outputs": [
    {
     "name": "stderr",
     "output_type": "stream",
     "text": [
      "C:\\Users\\Admin\\AppData\\Local\\Temp\\ipykernel_27456\\1057413605.py:2: FutureWarning: Series.__getitem__ treating keys as positions is deprecated. In a future version, integer keys will always be treated as labels (consistent with DataFrame behavior). To access a value by position, use `ser.iloc[pos]`\n",
      "  row[0]\n"
     ]
    },
    {
     "data": {
      "text/plain": [
       "'닥터베아제정'"
      ]
     },
     "execution_count": 30,
     "metadata": {},
     "output_type": "execute_result"
    }
   ],
   "source": [
    "row = test_data.iloc[0]\n",
    "row[0]"
   ]
  },
  {
   "cell_type": "code",
   "execution_count": 31,
   "metadata": {},
   "outputs": [
    {
     "name": "stderr",
     "output_type": "stream",
     "text": [
      "C:\\Users\\Admin\\AppData\\Local\\Temp\\ipykernel_17112\\2063169269.py:4: FutureWarning: Series.__getitem__ treating keys as positions is deprecated. In a future version, integer keys will always be treated as labels (consistent with DataFrame behavior). To access a value by position, use `ser.iloc[pos]`\n",
      "  temp[i].replace(\"이 약\",row[0])\n",
      "C:\\Users\\Admin\\AppData\\Local\\Temp\\ipykernel_17112\\2063169269.py:5: FutureWarning: Series.__getitem__ treating keys as positions is deprecated. In a future version, integer keys will always be treated as labels (consistent with DataFrame behavior). To access a value by position, use `ser.iloc[pos]`\n",
      "  qna = {q : row[i+3] for i, q in enumerate(q_type)}\n"
     ]
    },
    {
     "data": {
      "text/plain": [
       "{'이 약의 효능은 무엇입니까?': '이 약은 소화불량, 식욕감퇴(식욕부진), 과식, 체함, 소화촉진, 소화불량으로 인한 위부팽만감에 사용합니다.',\n",
       " '이 약은 어떻게 사용합니까?': '성인 1회 1정을 1일 3회 식후에 복용합니다.',\n",
       " '이 약을 사용하기 전에 반드시 알아야 할 내용은 무엇입니까?': nan,\n",
       " '이 약의 사용상 주의사항은 무엇입니까?': '만 7세 이하의 소아는 이 약을 복용하지 마십시오.이 약을 복용하기 전에 알레르기 체질인 사람,\\xa0임부 또는 임신하고 있을 가능성이 있는 여성, 이 약 또는 황색4호에 과민증 환자는 의사 또는 약사와 상담하십시오.정해진 용법과 용량을 잘 지키십시오.2주 정도 복용하여도 증상의 개선이 없을 경우 즉각 복용을 중지하고 의사 또는 약사와 상담하십시오.',\n",
       " '이 약을 사용하는 동안 주의해야 할 약 또는 음식은 무엇입니까?': nan,\n",
       " '이 약은 어떤 이상반응이 나타날 수 있습니까?': nan,\n",
       " '이 약은 어떻게 보관해야 합니까?': '습기와 빛을 피해 실온에서 보관하십시오.어린이의 손이 닿지 않는 곳에 보관하십시오.'}"
      ]
     },
     "execution_count": 31,
     "metadata": {},
     "output_type": "execute_result"
    }
   ],
   "source": [
    "row = test_data.iloc[0]\n",
    "temp = question_type\n",
    "for i in range(len(question_type)):\n",
    "    temp[i].replace(\"이 약\",row[0])\n",
    "qna = {q : row[i+3] for i, q in enumerate(q_type)}\n",
    "qna"
   ]
  },
  {
   "cell_type": "code",
   "execution_count": 31,
   "metadata": {},
   "outputs": [
    {
     "name": "stderr",
     "output_type": "stream",
     "text": [
      "C:\\Users\\Admin\\AppData\\Local\\Temp\\ipykernel_27456\\1805903910.py:4: FutureWarning: Series.__getitem__ treating keys as positions is deprecated. In a future version, integer keys will always be treated as labels (consistent with DataFrame behavior). To access a value by position, use `ser.iloc[pos]`\n",
      "  q= q.replace(\"이 약\", row[0])\n",
      "C:\\Users\\Admin\\AppData\\Local\\Temp\\ipykernel_27456\\1805903910.py:5: FutureWarning: Series.__getitem__ treating keys as positions is deprecated. In a future version, integer keys will always be treated as labels (consistent with DataFrame behavior). To access a value by position, use `ser.iloc[pos]`\n",
      "  qna[q] = row[i+3]\n"
     ]
    },
    {
     "data": {
      "text/plain": [
       "{'닥터베아제정의 효능은 무엇입니까?': '이 약은 소화불량, 식욕감퇴(식욕부진), 과식, 체함, 소화촉진, 소화불량으로 인한 위부팽만감에 사용합니다.',\n",
       " '닥터베아제정은 어떻게 사용합니까?': '성인 1회 1정을 1일 3회 식후에 복용합니다.',\n",
       " '닥터베아제정을 사용하기 전에 반드시 알아야 할 내용은 무엇입니까?': nan,\n",
       " '닥터베아제정의 사용상 주의사항은 무엇입니까?': '만 7세 이하의 소아는 이 약을 복용하지 마십시오.이 약을 복용하기 전에 알레르기 체질인 사람,\\xa0임부 또는 임신하고 있을 가능성이 있는 여성, 이 약 또는 황색4호에 과민증 환자는 의사 또는 약사와 상담하십시오.정해진 용법과 용량을 잘 지키십시오.2주 정도 복용하여도 증상의 개선이 없을 경우 즉각 복용을 중지하고 의사 또는 약사와 상담하십시오.',\n",
       " '닥터베아제정을 사용하는 동안 주의해야 할 약 또는 음식은 무엇입니까?': nan,\n",
       " '닥터베아제정은 어떤 이상반응이 나타날 수 있습니까?': nan,\n",
       " '닥터베아제정은 어떻게 보관해야 합니까?': '습기와 빛을 피해 실온에서 보관하십시오.어린이의 손이 닿지 않는 곳에 보관하십시오.'}"
      ]
     },
     "execution_count": 31,
     "metadata": {},
     "output_type": "execute_result"
    }
   ],
   "source": [
    "row = test_data.iloc[0]\n",
    "qna = {}\n",
    "for i, q in enumerate(question_type):\n",
    "    q= q.replace(\"이 약\", row[0])\n",
    "    qna[q] = row[i+3]\n",
    "qna"
   ]
  },
  {
   "cell_type": "code",
   "execution_count": 32,
   "metadata": {},
   "outputs": [
    {
     "data": {
      "text/plain": [
       "7"
      ]
     },
     "execution_count": 32,
     "metadata": {},
     "output_type": "execute_result"
    }
   ],
   "source": [
    "len(qna)"
   ]
  },
  {
   "cell_type": "markdown",
   "metadata": {},
   "source": [
    "### 데이터를 딕셔너리 형태로 저장하는 코드"
   ]
  },
  {
   "cell_type": "code",
   "execution_count": 34,
   "metadata": {},
   "outputs": [
    {
     "name": "stderr",
     "output_type": "stream",
     "text": [
      "C:\\Users\\Admin\\AppData\\Local\\Temp\\ipykernel_27456\\3488911425.py:8: FutureWarning: Series.__getitem__ treating keys as positions is deprecated. In a future version, integer keys will always be treated as labels (consistent with DataFrame behavior). To access a value by position, use `ser.iloc[pos]`\n",
      "  q= q.replace(\"이 약\", row[0]) # 이 약 -> 의약품명으로 대치\n",
      "C:\\Users\\Admin\\AppData\\Local\\Temp\\ipykernel_27456\\3488911425.py:9: FutureWarning: Series.__getitem__ treating keys as positions is deprecated. In a future version, integer keys will always be treated as labels (consistent with DataFrame behavior). To access a value by position, use `ser.iloc[pos]`\n",
      "  qna[q] = row[i+3]   #qna의 의약품명 부분에 답변 맵핑\n",
      "C:\\Users\\Admin\\AppData\\Local\\Temp\\ipykernel_27456\\3488911425.py:10: FutureWarning: Series.__getitem__ treating keys as positions is deprecated. In a future version, integer keys will always be treated as labels (consistent with DataFrame behavior). To access a value by position, use `ser.iloc[pos]`\n",
      "  qna_dict[row[0]] = qna\n"
     ]
    }
   ],
   "source": [
    "qna_dict = {}  # [의약품명] : [해당 의약품명 관련 질문들] 형식의 딕셔너리\n",
    "\n",
    "for i in range(len(test_data)):\n",
    "    row = test_data.iloc[i] #i번째 행 row에 저장\n",
    "    qna = {}\n",
    "\n",
    "    for i, q in enumerate(question_type):\n",
    "        q= q.replace(\"이 약\", row[0]) # 이 약 -> 의약품명으로 대치\n",
    "        qna[q] = row[i+3]   #qna의 의약품명 부분에 답변 맵핑\n",
    "    qna_dict[row[0]] = qna\n"
   ]
  },
  {
   "cell_type": "code",
   "execution_count": 49,
   "metadata": {},
   "outputs": [
    {
     "data": {
      "text/plain": [
       "{'가네카정의 효능은 무엇입니까?': '이 약은 코감기, 알레르기 및 혈관운동성 코염에 의한 재채기, 콧물, 코막힘, 눈물의 완화에 사용합니다.',\n",
       " '가네카정은 어떻게 사용합니까?': '성인은 1회 1정, 소아(12~14세)는 1회 1/2정을 1일 3회 매 식후에 복용합니다.',\n",
       " '가네카정을 사용하기 전에 반드시 알아야 할 내용은 무엇입니까?': '급성전신발진고름물집증과 같은 중증 피부 이상반응이 나타나는 경우 복용을 중단하고 의사 또는 약사와 상의하십시오.',\n",
       " '가네카정의 사용상 주의사항은 무엇입니까?': '이 약에 과민증 환자,\\xa0중증(심한 증상)의 간 및 신기능 장애,\\xa0중증(심한 증상)의 관상심장질환,\\xa0배뇨장애,\\xa0고혈압, 관상동맥질환, 임부 또는 임신하고 있을 가능성이 있는 여성, 수유부,\\xa02세 이하의 영아,\\xa0MAO 억제제를 투여중인 환자,\\xa0파라옥시안식향산메틸에 과민증 환자는 이 약을 복용하지 마십시오.이 약을 복용하기 전에\\xa0천식, 녹내장, 부정맥, 당뇨병, 갑상샘기능항진증, 12세 미만의 소아는 의사 또는 약사와 상의하십시오.정해진 용법과 용량을 잘 지키십시오.장기간 계속하여 복용하지 마십시오.어린이에게 투여할 경우 보호자의 지도 감독하에 투여하십시오.복용 후 운전 및 기계조작 시 주의하십시오.',\n",
       " '가네카정을 사용하는 동안 주의해야 할 약 또는 음식은 무엇입니까?': '혈압강하제, 알코올, 중추신경억제제(수면제, 진정제, 안정제), MAO 억제제, 교감신경흥분제, 삼환계 항우울약, 구아네티딘, 브레틸리움, 베타나이드, 데브리소퀸, 메칠도파, 교감신경성약(충혈제거제, 식욕억제제, 암페타민류의 신경자극제), α 및 β 아드레날린 저해제(억제제)와 함께 복용하지 마십시오.',\n",
       " '가네카정은 어떤 이상반응이 나타날 수 있습니까?': '급성전신발진농포증, 중증 피부이상반응(발열, 홍반, 다수의 작은 농포 등), 고열, 진정, 졸음, 중추 신경 쇠약, 중추 흥분, 불안, 발한(땀이 남), 경미한(가벼운) 혈압강하, 시력장애, 산동(동공확대), 헛소리, 환각, 흥분, 근육경련, 경직(굳음), 아테토시스, 간대상 및 강직성 경련, 고열, 호흡마비, 혼수, 순환기 마비, 피부반응, 일시적인 자극통, 작열감(화끈감), 구갈, 구역, 구토, 배뇨(소변을 눔)곤란, 흥분, 허혈성대장염 등이 나타나는 경우 복용을 즉각 중지하고 의사 또는 약사와 상의하십시오.',\n",
       " '가네카정은 어떻게 보관해야 합니까?': '습기와 빛을 피해 실온에서 보관하십시오.어린이의 손이 닿지 않는 곳에 보관하십시오.'}"
      ]
     },
     "execution_count": 49,
     "metadata": {},
     "output_type": "execute_result"
    }
   ],
   "source": [
    "qna_dict['가네카정']"
   ]
  },
  {
   "cell_type": "code",
   "execution_count": 35,
   "metadata": {},
   "outputs": [
    {
     "data": {
      "text/plain": [
       "98"
      ]
     },
     "execution_count": 35,
     "metadata": {},
     "output_type": "execute_result"
    }
   ],
   "source": [
    "len(qna_dict)"
   ]
  },
  {
   "cell_type": "markdown",
   "metadata": {},
   "source": [
    "`qna_mapped_by_med : {의약품명:{의약품명의 효능은~:}}`"
   ]
  },
  {
   "cell_type": "markdown",
   "metadata": {},
   "source": [
    "### 데이터 json 형식으로 저장하는 코드"
   ]
  },
  {
   "cell_type": "code",
   "execution_count": 44,
   "metadata": {},
   "outputs": [
    {
     "name": "stderr",
     "output_type": "stream",
     "text": [
      "C:\\Users\\Admin\\AppData\\Local\\Temp\\ipykernel_17112\\1349636467.py:7: FutureWarning: Series.__getitem__ treating keys as positions is deprecated. In a future version, integer keys will always be treated as labels (consistent with DataFrame behavior). To access a value by position, use `ser.iloc[pos]`\n",
      "  med['의약품명'] = row[0]\n",
      "C:\\Users\\Admin\\AppData\\Local\\Temp\\ipykernel_17112\\1349636467.py:8: FutureWarning: Series.__getitem__ treating keys as positions is deprecated. In a future version, integer keys will always be treated as labels (consistent with DataFrame behavior). To access a value by position, use `ser.iloc[pos]`\n",
      "  med['업체명'] = row[1]\n",
      "C:\\Users\\Admin\\AppData\\Local\\Temp\\ipykernel_17112\\1349636467.py:9: FutureWarning: Series.__getitem__ treating keys as positions is deprecated. In a future version, integer keys will always be treated as labels (consistent with DataFrame behavior). To access a value by position, use `ser.iloc[pos]`\n",
      "  med['주성분'] = row[2]\n",
      "C:\\Users\\Admin\\AppData\\Local\\Temp\\ipykernel_17112\\1349636467.py:11: FutureWarning: Series.__getitem__ treating keys as positions is deprecated. In a future version, integer keys will always be treated as labels (consistent with DataFrame behavior). To access a value by position, use `ser.iloc[pos]`\n",
      "  med = {d:row[i+3] for i, d in enumerate(data_type)}#.update()\n",
      "C:\\Users\\Admin\\AppData\\Local\\Temp\\ipykernel_17112\\1349636467.py:12: FutureWarning: Series.__getitem__ treating keys as positions is deprecated. In a future version, integer keys will always be treated as labels (consistent with DataFrame behavior). To access a value by position, use `ser.iloc[pos]`\n",
      "  qna_json[row[0]] = med\n"
     ]
    }
   ],
   "source": [
    "qna_json = {}  # [의약품명] : [해당 의약품명 관련 질문들] 형식의 딕셔너리\n",
    "data_type = [\"효능\", \"사용방법\", \"숙지사항\", \"주의사항\", \"병용금기\", \"이상반응\",\"보관방법\"]\n",
    "\n",
    "for i in range(len(test_data)):\n",
    "    row = test_data.iloc[i] #i번째 행 row에 저장\n",
    "    med = {}\n",
    "    med['의약품명'] = row[0]\n",
    "    med['업체명'] = row[1]\n",
    "    med['주성분'] = row[2]\n",
    "\n",
    "    med = {d:row[i+3] for i, d in enumerate(data_type)}#.update()\n",
    "    qna_json[row[0]] = med"
   ]
  },
  {
   "cell_type": "code",
   "execution_count": 46,
   "metadata": {},
   "outputs": [
    {
     "data": {
      "text/plain": [
       "{'효능': '이 약은 급ㆍ만성기관지염, 기관지천식, 후두염, 부비동염, 낭성섬유증의 질환에서\\xa0객담배출곤란에 사용합니다.',\n",
       " '사용방법': '급성질환에 성인은 1회 1포(200 mg)씩, 1일 3회, 6~14세는 1회 1포(200 mg)씩, 1일 2회, 2~5세는 1회 1/2\\xa0포(100 mg)씩, 1일 3회 소량의 물과 함께 복용합니다.만성질환에 성인은 1회 1포(200 mg)씩, 1일 2회, 6~14세는 1회\\xa0 1/2\\xa0포(100 mg)씩, 1일 3회 소량의 물과 함께 복용합니다.낭성섬유증에 6세 이상은 1회 1포(200 mg)씩, 1일 3회, 2~5세는 1회 1/2\\xa0포(100 mg)씩, 1일 4회 소량의 물과 함께 복용합니다.',\n",
       " '숙지사항': '이 약은 체내에서 페닐알라닌으로 대사되는 아스파탐이 함유되어 페닐알라닌의 섭취를 규제할 필요가 있는 페닐케톤뇨증 환자는 복용하지 마십시오.',\n",
       " '주의사항': '이 약에 과민증 환자,\\xa0위•십이지장궤양,\\xa02세 미만 영아는 이 약을 복용하지 마십시오.이 약을 복용하기 전에\\xa0임부 또는 임신하고 있을 가능성이 있는 여성 및 수유부는 의사 또는 약사와 상담하십시오.',\n",
       " '병용금기': '경구용 항생물질(아목시실린, 세푸록심, 독시사이클린, 에리트로마이신, 티암페니콜)과 함께 복용 시 적어도 2시간\\xa0간격을 두고 복용하십시오.이 약의 용액에 다른 약물의 첨가는 피하십시오.',\n",
       " '이상반응': '드물게 구역, 구토, 구내염, 가슴쓰림, 설사, 두드러기, 가려움, 발진, 두통, 이명, 기관지경련(특히 천식 환자), 빈맥, 고혈압 등이 나타나는 경우 즉각 복용을 중지하고\\xa0의사 또는 약사와 상담하십시오.',\n",
       " '보관방법': '실온에서 보관하십시오.어린이의 손이 닿지 않는 곳에 보관하십시오.'}"
      ]
     },
     "execution_count": 46,
     "metadata": {},
     "output_type": "execute_result"
    }
   ],
   "source": [
    "qna_json['뮤테란과립200밀리그램(아세틸시스테인)']"
   ]
  },
  {
   "cell_type": "markdown",
   "metadata": {},
   "source": [
    "### 질의 응답 형식으로 엑셀 파일 만드는 코드"
   ]
  },
  {
   "cell_type": "code",
   "execution_count": 61,
   "metadata": {},
   "outputs": [],
   "source": [
    "qna_df = pd.DataFrame()\n",
    "\n",
    "for med in qna_dict:#med는 의약품명\n",
    "    qna_df = pd.concat([qna_df,pd.DataFrame(list(qna_dict[med].items()),columns=[\"question\",\"answer\"])], ignore_index= True)"
   ]
  },
  {
   "cell_type": "code",
   "execution_count": 63,
   "metadata": {},
   "outputs": [],
   "source": [
    "qna_df.to_excel(\"e약은요 테스트용 질문 데이터셋.xlsx\",index = False)"
   ]
  },
  {
   "cell_type": "markdown",
   "metadata": {},
   "source": [
    "### 각 셀마다 약이름, 질문이 들어간 csv 파일 만들기"
   ]
  },
  {
   "cell_type": "code",
   "execution_count": 1,
   "metadata": {},
   "outputs": [],
   "source": [
    "import pandas as pd"
   ]
  },
  {
   "cell_type": "code",
   "execution_count": 8,
   "metadata": {},
   "outputs": [],
   "source": [
    "origin_data = pd.read_excel(\"e약은요_test_question.xlsx\")"
   ]
  },
  {
   "cell_type": "code",
   "execution_count": 9,
   "metadata": {},
   "outputs": [
    {
     "data": {
      "text/plain": [
       "['제품명',\n",
       " '업체명',\n",
       " '주성분',\n",
       " '이 약의 효능은 무엇입니까?',\n",
       " '이 약은 어떻게 사용합니까?',\n",
       " '이 약을 사용하기 전에 반드시 알아야 할 내용은 무엇입니까?',\n",
       " '이 약의 사용상 주의사항은 무엇입니까?',\n",
       " '이 약을 사용하는 동안 주의해야 할 약 또는 음식은 무엇입니까?',\n",
       " '이 약은 어떤 이상반응이 나타날 수 있습니까?',\n",
       " '이 약은 어떻게 보관해야 합니까?']"
      ]
     },
     "execution_count": 9,
     "metadata": {},
     "output_type": "execute_result"
    }
   ],
   "source": [
    "columns = list(origin_data.columns)\n",
    "columns"
   ]
  },
  {
   "cell_type": "code",
   "execution_count": 19,
   "metadata": {},
   "outputs": [
    {
     "name": "stdout",
     "output_type": "stream",
     "text": [
      "<class 'str'>\n",
      "<class 'str'>\n",
      "<class 'str'>\n",
      "<class 'str'>\n",
      "<class 'str'>\n",
      "<class 'float'>\n",
      "<class 'str'>\n",
      "<class 'float'>\n",
      "<class 'float'>\n",
      "<class 'str'>\n"
     ]
    }
   ],
   "source": [
    "type(origin_data.iloc[0])\n",
    "row = origin_data.iloc[0]\n",
    "type(row.iloc[0])\n",
    "for i in range(10):\n",
    "    print(type(row.iloc[i]))"
   ]
  },
  {
   "cell_type": "code",
   "execution_count": 20,
   "metadata": {},
   "outputs": [
    {
     "name": "stdout",
     "output_type": "stream",
     "text": [
      "nan\n"
     ]
    }
   ],
   "source": [
    "print(row.iloc[8])"
   ]
  },
  {
   "cell_type": "code",
   "execution_count": 22,
   "metadata": {},
   "outputs": [],
   "source": [
    "for i in range(len(origin_data)):\n",
    "    row = origin_data.iloc[i]\n",
    "    for j in range(7):\n",
    "        if type(row.iloc[j+3]) != float:\n",
    "            row.iloc[j+3] = '의약품명 : ' + row.iloc[0] + '\\n' + '질문 : ' + columns[j+3] + '\\n답변 : ' + row.iloc[j+3]\n"
   ]
  },
  {
   "cell_type": "code",
   "execution_count": 40,
   "metadata": {},
   "outputs": [],
   "source": [
    "origin_data.to_csv(\"e약은요_의약품명추가.csv\", index = False)\n",
    "origin_data.to_excel(\"e약은요_의약품명추가.xlsx\", index = False)"
   ]
  },
  {
   "cell_type": "code",
   "execution_count": 23,
   "metadata": {},
   "outputs": [
    {
     "data": {
      "text/plain": [
       "제품명                                                                               닥터베아제정\n",
       "업체명                                                                              (주)대웅제약\n",
       "주성분                                    디아스타제·프로테아제·셀룰라제,판셀라제,크리아제-PEG,디아스타제·프로테아제100,...\n",
       "이 약의 효능은 무엇입니까?                        의약품명 : 닥터베아제정\\n질문 : 이 약의 효능은 무엇입니까?\\n답변 : 의약품명...\n",
       "이 약은 어떻게 사용합니까?                        의약품명 : 닥터베아제정\\n질문 : 이 약은 어떻게 사용합니까?\\n답변 : 의약품명...\n",
       "이 약을 사용하기 전에 반드시 알아야 할 내용은 무엇입니까?                                                    NaN\n",
       "이 약의 사용상 주의사항은 무엇입니까?                  의약품명 : 닥터베아제정\\n질문 : 이 약의 사용상 주의사항은 무엇입니까?\\n답변 ...\n",
       "이 약을 사용하는 동안 주의해야 할 약 또는 음식은 무엇입니까?                                                  NaN\n",
       "이 약은 어떤 이상반응이 나타날 수 있습니까?                                                            NaN\n",
       "이 약은 어떻게 보관해야 합니까?                     의약품명 : 닥터베아제정\\n질문 : 이 약은 어떻게 보관해야 합니까?\\n답변 : 습...\n",
       "Name: 0, dtype: object"
      ]
     },
     "execution_count": 23,
     "metadata": {},
     "output_type": "execute_result"
    }
   ],
   "source": [
    "origin_data.iloc[0]"
   ]
  },
  {
   "cell_type": "code",
   "execution_count": 12,
   "metadata": {},
   "outputs": [
    {
     "data": {
      "text/plain": [
       "'성인 1회 1정을 1일 3회 식후에 복용합니다.'"
      ]
     },
     "execution_count": 12,
     "metadata": {},
     "output_type": "execute_result"
    }
   ],
   "source": [
    "row = origin_data.iloc[0]\n",
    "row\n",
    "row.iloc[4]"
   ]
  },
  {
   "cell_type": "code",
   "execution_count": 13,
   "metadata": {},
   "outputs": [
    {
     "data": {
      "text/plain": [
       "제품명                                                                               닥터베아제정\n",
       "업체명                                                                              (주)대웅제약\n",
       "주성분                                    디아스타제·프로테아제·셀룰라제,판셀라제,크리아제-PEG,디아스타제·프로테아제100,...\n",
       "이 약의 효능은 무엇입니까?                        의약품명 : 닥터베아제정\\n질문 : 이 약의 효능은 무엇입니까?\\n답변 : 이 약은...\n",
       "이 약은 어떻게 사용합니까?                        의약품명 : 닥터베아제정\\n질문 : 이 약은 어떻게 사용합니까?\\n답변 : 성인 1...\n",
       "이 약을 사용하기 전에 반드시 알아야 할 내용은 무엇입니까?                                                    NaN\n",
       "이 약의 사용상 주의사항은 무엇입니까?                  의약품명 : 닥터베아제정\\n질문 : 이 약의 사용상 주의사항은 무엇입니까?\\n답변 ...\n",
       "이 약을 사용하는 동안 주의해야 할 약 또는 음식은 무엇입니까?                                                  NaN\n",
       "이 약은 어떤 이상반응이 나타날 수 있습니까?                                                            NaN\n",
       "이 약은 어떻게 보관해야 합니까?                     의약품명 : 닥터베아제정\\n질문 : 이 약은 어떻게 보관해야 합니까?\\n답변 : 습...\n",
       "Name: 0, dtype: object"
      ]
     },
     "execution_count": 13,
     "metadata": {},
     "output_type": "execute_result"
    }
   ],
   "source": [
    "for i in range(len(origin_data)):\n",
    "    row = origin_data.iloc[i]\n",
    "    for j in range(7):\n",
    "        if pd.isna(row.iloc[j+3]) != True:\n",
    "            answer = row.iloc[j+3]\n",
    "            row.iloc[j+3] = '의약품명 : ' + row.iloc[0] + '\\n' + '질문 : ' + columns[j+3] + '\\n답변 : ' + answer\n",
    "\n",
    "origin_data.iloc[0]"
   ]
  },
  {
   "cell_type": "code",
   "execution_count": 14,
   "metadata": {},
   "outputs": [],
   "source": [
    "origin_data.to_csv(\"e약은요_의약품명추가.csv\", index = False)\n",
    "origin_data.to_excel(\"e약은요_의약품명추가.xlsx\", index = False)"
   ]
  },
  {
   "cell_type": "markdown",
   "metadata": {},
   "source": [
    "#### token 길이 EDA"
   ]
  },
  {
   "cell_type": "code",
   "execution_count": 21,
   "metadata": {},
   "outputs": [],
   "source": [
    "import tiktoken"
   ]
  },
  {
   "cell_type": "code",
   "execution_count": 22,
   "metadata": {},
   "outputs": [],
   "source": [
    "tokenizer = tiktoken.get_encoding(\"cl100k_base\")\n",
    "\n",
    "def tiktoken_len(text):\n",
    "    tokens = tokenizer.encode(text)\n",
    "    return len(tokens)"
   ]
  },
  {
   "cell_type": "code",
   "execution_count": 23,
   "metadata": {},
   "outputs": [],
   "source": [
    "max , min = 0, 1000\n",
    "for i in range(len(origin_data)):\n",
    "    row = origin_data.iloc[i]\n",
    "    for j in range(7):\n",
    "        if pd.isna(row.iloc[j+3]) != True:\n",
    "                if max < tiktoken_len(row.iloc[j+3]):\n",
    "                    max = tiktoken_len(row.iloc[j+3])\n",
    "                if min > tiktoken_len(row.iloc[j+3]):\n",
    "                    min = tiktoken_len(row.iloc[j+3])\n"
   ]
  },
  {
   "cell_type": "code",
   "execution_count": 24,
   "metadata": {},
   "outputs": [
    {
     "name": "stdout",
     "output_type": "stream",
     "text": [
      "1123 54\n"
     ]
    }
   ],
   "source": [
    "print(max, min)"
   ]
  },
  {
   "cell_type": "code",
   "execution_count": null,
   "metadata": {},
   "outputs": [],
   "source": []
  }
 ],
 "metadata": {
  "kernelspec": {
   "display_name": "sba",
   "language": "python",
   "name": "python3"
  },
  "language_info": {
   "codemirror_mode": {
    "name": "ipython",
    "version": 3
   },
   "file_extension": ".py",
   "mimetype": "text/x-python",
   "name": "python",
   "nbconvert_exporter": "python",
   "pygments_lexer": "ipython3",
   "version": "3.10.9"
  }
 },
 "nbformat": 4,
 "nbformat_minor": 2
}
